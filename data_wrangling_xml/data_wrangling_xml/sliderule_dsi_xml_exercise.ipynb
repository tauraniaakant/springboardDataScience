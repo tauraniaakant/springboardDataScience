{
 "cells": [
  {
   "cell_type": "markdown",
   "metadata": {},
   "source": [
    "# XML example and exercise\n",
    "****\n",
    "+ study examples of accessing nodes in XML tree structure  \n",
    "+ work on exercise to be completed and submitted\n",
    "****\n",
    "+ reference: https://docs.python.org/2.7/library/xml.etree.elementtree.html\n",
    "+ data source: http://www.dbis.informatik.uni-goettingen.de/Mondial\n",
    "****"
   ]
  },
  {
   "cell_type": "code",
   "execution_count": 72,
   "metadata": {
    "collapsed": true
   },
   "outputs": [],
   "source": [
    "from xml.etree import ElementTree as ET"
   ]
  },
  {
   "cell_type": "markdown",
   "metadata": {},
   "source": [
    "## XML example\n",
    "\n",
    "+ for details about tree traversal and iterators, see https://docs.python.org/2.7/library/xml.etree.elementtree.html"
   ]
  },
  {
   "cell_type": "code",
   "execution_count": 73,
   "metadata": {
    "collapsed": true
   },
   "outputs": [],
   "source": [
    "document_tree = ET.parse( './data/mondial_database_less.xml' )"
   ]
  },
  {
   "cell_type": "code",
   "execution_count": 74,
   "metadata": {
    "collapsed": false
   },
   "outputs": [
    {
     "name": "stdout",
     "output_type": "stream",
     "text": [
      "Albania\n",
      "Greece\n",
      "Macedonia\n",
      "Serbia\n",
      "Montenegro\n",
      "Kosovo\n",
      "Andorra\n"
     ]
    }
   ],
   "source": [
    "# print names of all countries\n",
    "for child in document_tree.getroot():\n",
    "    print(child.find('name').text)"
   ]
  },
  {
   "cell_type": "code",
   "execution_count": 75,
   "metadata": {
    "collapsed": false
   },
   "outputs": [
    {
     "name": "stdout",
     "output_type": "stream",
     "text": [
      "* Albania:\n",
      "Tirana, Shkodër, Durrës, Vlorë, Elbasan, Korçë\n",
      "* Greece:\n",
      "Komotini, Kavala, Athina, Peiraias, Peristeri, Acharnes, Patra, Kozani, Kerkyra, Ioannina, Thessaloniki, Iraklio, Chania, Ermoupoli, Rhodes, Tripoli, Lamia, Chalkida, Larissa, Volos, Mytilini, Karyes\n",
      "* Macedonia:\n",
      "Skopje, Kumanovo\n",
      "* Serbia:\n",
      "Beograd, Novi Sad, Niš\n",
      "* Montenegro:\n",
      "Podgorica\n",
      "* Kosovo:\n",
      "Prishtine\n",
      "* Andorra:\n",
      "Andorra la Vella\n"
     ]
    }
   ],
   "source": [
    "# print names of all countries and their cities\n",
    "for element in document_tree.iterfind('country'):\n",
    "    print('* ' + element.find('name').text + ':'),\n",
    "    capitals_string = ''\n",
    "    for subelement in element.getiterator('city'):\n",
    "        capitals_string += subelement.find('name').text + ', '\n",
    "    print (capitals_string[:-2])"
   ]
  },
  {
   "cell_type": "markdown",
   "metadata": {},
   "source": [
    "****\n",
    "## XML exercise\n",
    "\n",
    "Using data in 'data/mondial_database.xml', the examples above, and refering to https://docs.python.org/2.7/library/xml.etree.elementtree.html, find\n",
    "\n",
    "1. 10 countries with the lowest infant mortality rates\n",
    "2. 10 cities with the largest population\n",
    "3. 10 ethnic groups with the largest overall populations (sum of best/latest estimates over all countries)\n",
    "4. name and country of a) longest river, b) largest lake and c) airport at highest elevation"
   ]
  },
  {
   "cell_type": "code",
   "execution_count": 76,
   "metadata": {
    "collapsed": true
   },
   "outputs": [],
   "source": [
    "import pandas as pd\n",
    "document = ET.parse( './data/mondial_database.xml' )"
   ]
  },
  {
   "cell_type": "code",
   "execution_count": 77,
   "metadata": {
    "collapsed": false,
    "scrolled": true
   },
   "outputs": [],
   "source": [
    "open('data/mondial_database.xml')\n",
    "N = 300\n",
    "head = \"\"\n",
    "with open('data/mondial_database.xml') as myfile:\n",
    "    for x in range(N):\n",
    "        head = head + next(myfile)"
   ]
  },
  {
   "cell_type": "markdown",
   "metadata": {},
   "source": [
    "# Answer 1:"
   ]
  },
  {
   "cell_type": "code",
   "execution_count": 78,
   "metadata": {
    "collapsed": false
   },
   "outputs": [],
   "source": [
    "root = document.getroot()\n",
    "rows = []\n",
    "for country in root:\n",
    "    dictionary = {}\n",
    "    dictionary['Country'] = country.find(\"name\").text\n",
    "    #print(\"Country: \"+str(country.find(\"name\").text))\n",
    "    for infmor in country.findall(\"infant_mortality\"):\n",
    "        #print(\"  \"+str(infmor.text))   \n",
    "        dictionary['Infant_Mortality_Rate'] = float(infmor.text)\n",
    "    rows.append(dictionary)\n",
    "df = pd.DataFrame(rows)"
   ]
  },
  {
   "cell_type": "code",
   "execution_count": 79,
   "metadata": {
    "collapsed": false,
    "scrolled": false
   },
   "outputs": [
    {
     "data": {
      "text/html": [
       "<div>\n",
       "<table border=\"1\" class=\"dataframe\">\n",
       "  <thead>\n",
       "    <tr style=\"text-align: right;\">\n",
       "      <th></th>\n",
       "      <th>Country</th>\n",
       "      <th>Infant_Mortality_Rate</th>\n",
       "    </tr>\n",
       "  </thead>\n",
       "  <tbody>\n",
       "    <tr>\n",
       "      <th>194</th>\n",
       "      <td>Western Sahara</td>\n",
       "      <td>145.82</td>\n",
       "    </tr>\n",
       "    <tr>\n",
       "      <th>54</th>\n",
       "      <td>Afghanistan</td>\n",
       "      <td>117.23</td>\n",
       "    </tr>\n",
       "    <tr>\n",
       "      <th>189</th>\n",
       "      <td>Mali</td>\n",
       "      <td>104.34</td>\n",
       "    </tr>\n",
       "    <tr>\n",
       "      <th>226</th>\n",
       "      <td>Somalia</td>\n",
       "      <td>100.14</td>\n",
       "    </tr>\n",
       "    <tr>\n",
       "      <th>213</th>\n",
       "      <td>Central African Republic</td>\n",
       "      <td>92.86</td>\n",
       "    </tr>\n",
       "    <tr>\n",
       "      <th>230</th>\n",
       "      <td>Guinea-Bissau</td>\n",
       "      <td>90.92</td>\n",
       "    </tr>\n",
       "    <tr>\n",
       "      <th>214</th>\n",
       "      <td>Chad</td>\n",
       "      <td>90.30</td>\n",
       "    </tr>\n",
       "    <tr>\n",
       "      <th>192</th>\n",
       "      <td>Niger</td>\n",
       "      <td>86.27</td>\n",
       "    </tr>\n",
       "    <tr>\n",
       "      <th>195</th>\n",
       "      <td>Angola</td>\n",
       "      <td>79.99</td>\n",
       "    </tr>\n",
       "    <tr>\n",
       "      <th>201</th>\n",
       "      <td>Burkina Faso</td>\n",
       "      <td>76.80</td>\n",
       "    </tr>\n",
       "  </tbody>\n",
       "</table>\n",
       "</div>"
      ],
      "text/plain": [
       "                      Country  Infant_Mortality_Rate\n",
       "194            Western Sahara                 145.82\n",
       "54                Afghanistan                 117.23\n",
       "189                      Mali                 104.34\n",
       "226                   Somalia                 100.14\n",
       "213  Central African Republic                  92.86\n",
       "230             Guinea-Bissau                  90.92\n",
       "214                      Chad                  90.30\n",
       "192                     Niger                  86.27\n",
       "195                    Angola                  79.99\n",
       "201              Burkina Faso                  76.80"
      ]
     },
     "execution_count": 79,
     "metadata": {},
     "output_type": "execute_result"
    }
   ],
   "source": [
    "df[df.Infant_Mortality_Rate.notnull()].sort_values('Infant_Mortality_Rate', ascending=False).head(10)"
   ]
  },
  {
   "cell_type": "markdown",
   "metadata": {},
   "source": [
    "# Answer 2:"
   ]
  },
  {
   "cell_type": "code",
   "execution_count": 80,
   "metadata": {
    "collapsed": true
   },
   "outputs": [],
   "source": [
    "root = document.getroot()\n",
    "rows = []\n",
    "for country in root:\n",
    "    for city in country.findall(\"city\"):\n",
    "        dictionary = {}\n",
    "        dictionary['Country'] = country.find(\"name\").text\n",
    "        dictionary['City_Name'] = str(city.find(\"name\").text)\n",
    "        if city.find(\".//population[@year='2011']\") != None:\n",
    "            dictionary['Population_2011'] = int(city.find(\".//population[@year='2011']\").text)\n",
    "            rows.append(dictionary)\n",
    "df2 = pd.DataFrame(rows)"
   ]
  },
  {
   "cell_type": "code",
   "execution_count": 81,
   "metadata": {
    "collapsed": false,
    "scrolled": true
   },
   "outputs": [
    {
     "data": {
      "text/html": [
       "<div>\n",
       "<table border=\"1\" class=\"dataframe\">\n",
       "  <thead>\n",
       "    <tr style=\"text-align: right;\">\n",
       "      <th></th>\n",
       "      <th>City_Name</th>\n",
       "      <th>Country</th>\n",
       "      <th>Population_2011</th>\n",
       "    </tr>\n",
       "  </thead>\n",
       "  <tbody>\n",
       "    <tr>\n",
       "      <th>8</th>\n",
       "      <td>Beograd</td>\n",
       "      <td>Serbia</td>\n",
       "      <td>1639121</td>\n",
       "    </tr>\n",
       "    <tr>\n",
       "      <th>56</th>\n",
       "      <td>Montevideo</td>\n",
       "      <td>Uruguay</td>\n",
       "      <td>1318755</td>\n",
       "    </tr>\n",
       "    <tr>\n",
       "      <th>23</th>\n",
       "      <td>Sofia</td>\n",
       "      <td>Bulgaria</td>\n",
       "      <td>1270284</td>\n",
       "    </tr>\n",
       "    <tr>\n",
       "      <th>39</th>\n",
       "      <td>Yerevan</td>\n",
       "      <td>Armenia</td>\n",
       "      <td>1060138</td>\n",
       "    </tr>\n",
       "    <tr>\n",
       "      <th>42</th>\n",
       "      <td>Kathmandu</td>\n",
       "      <td>Nepal</td>\n",
       "      <td>1003285</td>\n",
       "    </tr>\n",
       "    <tr>\n",
       "      <th>18</th>\n",
       "      <td>Zagreb</td>\n",
       "      <td>Croatia</td>\n",
       "      <td>686568</td>\n",
       "    </tr>\n",
       "    <tr>\n",
       "      <th>52</th>\n",
       "      <td>Kingston</td>\n",
       "      <td>Jamaica</td>\n",
       "      <td>662426</td>\n",
       "    </tr>\n",
       "    <tr>\n",
       "      <th>14</th>\n",
       "      <td>Rīga</td>\n",
       "      <td>Latvia</td>\n",
       "      <td>658640</td>\n",
       "    </tr>\n",
       "    <tr>\n",
       "      <th>15</th>\n",
       "      <td>Vilnius</td>\n",
       "      <td>Lithuania</td>\n",
       "      <td>535631</td>\n",
       "    </tr>\n",
       "    <tr>\n",
       "      <th>35</th>\n",
       "      <td>Dublin</td>\n",
       "      <td>Ireland</td>\n",
       "      <td>525383</td>\n",
       "    </tr>\n",
       "  </tbody>\n",
       "</table>\n",
       "</div>"
      ],
      "text/plain": [
       "     City_Name    Country  Population_2011\n",
       "8      Beograd     Serbia          1639121\n",
       "56  Montevideo    Uruguay          1318755\n",
       "23       Sofia   Bulgaria          1270284\n",
       "39     Yerevan    Armenia          1060138\n",
       "42   Kathmandu      Nepal          1003285\n",
       "18      Zagreb    Croatia           686568\n",
       "52    Kingston    Jamaica           662426\n",
       "14        Rīga     Latvia           658640\n",
       "15     Vilnius  Lithuania           535631\n",
       "35      Dublin    Ireland           525383"
      ]
     },
     "execution_count": 81,
     "metadata": {},
     "output_type": "execute_result"
    }
   ],
   "source": [
    "df2.sort_values('Population_2011',ascending=False).head(10)"
   ]
  },
  {
   "cell_type": "markdown",
   "metadata": {},
   "source": [
    "# Answer 3:"
   ]
  },
  {
   "cell_type": "code",
   "execution_count": 82,
   "metadata": {
    "collapsed": false,
    "scrolled": true
   },
   "outputs": [
    {
     "data": {
      "text/html": [
       "<div>\n",
       "<table border=\"1\" class=\"dataframe\">\n",
       "  <thead>\n",
       "    <tr style=\"text-align: right;\">\n",
       "      <th></th>\n",
       "      <th>totalPop</th>\n",
       "    </tr>\n",
       "  </thead>\n",
       "  <tbody>\n",
       "    <tr>\n",
       "      <th>Nepali</th>\n",
       "      <td>1.05978e+08</td>\n",
       "    </tr>\n",
       "    <tr>\n",
       "      <th>Bulgarian</th>\n",
       "      <td>3.38745e+07</td>\n",
       "    </tr>\n",
       "    <tr>\n",
       "      <th>Croatian</th>\n",
       "      <td>2.09034e+07</td>\n",
       "    </tr>\n",
       "    <tr>\n",
       "      <th>Serbian</th>\n",
       "      <td>1.96076e+07</td>\n",
       "    </tr>\n",
       "    <tr>\n",
       "      <th>Albanian</th>\n",
       "      <td>1.92613e+07</td>\n",
       "    </tr>\n",
       "    <tr>\n",
       "      <th>English</th>\n",
       "      <td>1.82135e+07</td>\n",
       "    </tr>\n",
       "    <tr>\n",
       "      <th>Lithuanian</th>\n",
       "      <td>7.48684e+06</td>\n",
       "    </tr>\n",
       "    <tr>\n",
       "      <th>Chinese</th>\n",
       "      <td>6.76043e+06</td>\n",
       "    </tr>\n",
       "    <tr>\n",
       "      <th>Spanish</th>\n",
       "      <td>6.5387e+06</td>\n",
       "    </tr>\n",
       "    <tr>\n",
       "      <th>Turkish</th>\n",
       "      <td>4.21481e+06</td>\n",
       "    </tr>\n",
       "  </tbody>\n",
       "</table>\n",
       "</div>"
      ],
      "text/plain": [
       "               totalPop\n",
       "Nepali      1.05978e+08\n",
       "Bulgarian   3.38745e+07\n",
       "Croatian    2.09034e+07\n",
       "Serbian     1.96076e+07\n",
       "Albanian    1.92613e+07\n",
       "English     1.82135e+07\n",
       "Lithuanian  7.48684e+06\n",
       "Chinese     6.76043e+06\n",
       "Spanish      6.5387e+06\n",
       "Turkish     4.21481e+06"
      ]
     },
     "execution_count": 82,
     "metadata": {},
     "output_type": "execute_result"
    }
   ],
   "source": [
    "root = document.getroot()\n",
    "rows = []\n",
    "for country in root:\n",
    "    for city in country.findall(\"city\"):\n",
    "        if country.find(\".//population[@year='2011']\") != None:\n",
    "            dictionary = {}\n",
    "            dictionary['Country'] = country.find(\"name\").text\n",
    "            #dictionary['Population_2011'] = int(country.find(\".//population[@year='2011']\").text)\n",
    "            count = 0\n",
    "            for language in country.findall(\"language\"):\n",
    "                dictionary[str(language.text)] = (float(language.get('percentage')))/100*int(country.find(\".//population[@year='2011']\").text)\n",
    "                count += 1\n",
    "            rows.append(dictionary)\n",
    "df3 = pd.DataFrame(rows)\n",
    "df3cv = df3.columns.tolist()\n",
    "df3cv = df3cv[8:9] + df3cv[0:8] + df3cv[9:]\n",
    "df3 = df3[df3cv] \n",
    "df3 = pd.DataFrame(df3.sum())\n",
    "df3.columns = ['totalPop']\n",
    "df3 = df3.drop('Country')\n",
    "df3.sort_values('totalPop', ascending=False).head(10)"
   ]
  },
  {
   "cell_type": "markdown",
   "metadata": {},
   "source": [
    "# Answer 4:"
   ]
  },
  {
   "cell_type": "code",
   "execution_count": 83,
   "metadata": {
    "collapsed": true
   },
   "outputs": [],
   "source": [
    "def isInt_str(v):\n",
    "    v = str(v).strip()\n",
    "    return v=='0' or (v if v.find('..') > -1 else v.lstrip('-+').rstrip('0').rstrip('.')).isdigit()"
   ]
  },
  {
   "cell_type": "code",
   "execution_count": 84,
   "metadata": {
    "collapsed": false,
    "scrolled": true
   },
   "outputs": [],
   "source": [
    "rows = []\n",
    "root = document.getroot()\n",
    "root.getchildren()\n",
    "lakecount = 0\n",
    "rivercount = 0\n",
    "airportcount = 0\n",
    "for child in root:\n",
    "    tagname = child.tag\n",
    "    if tagname == \"lake\":\n",
    "        if child.find(\"area\") != None:\n",
    "            if lakecount == 0:\n",
    "                lakecount += 1\n",
    "                largestLake = child\n",
    "            else:\n",
    "                area = float(child.find(\"area\").text)\n",
    "                largestSoFar = float(largestLake.find(\"area\").text)\n",
    "                if area > largestSoFar:\n",
    "                    largestLake = child\n",
    "    elif tagname == \"river\":\n",
    "        if child.find(\"length\") != None:\n",
    "            if rivercount == 0:\n",
    "                rivercount += 1\n",
    "                longestRiver = child\n",
    "            else:\n",
    "                length = float(child.find(\"length\").text)\n",
    "                longestSoFar = float(longestRiver.find(\"length\").text)\n",
    "                if length > longestSoFar:\n",
    "                    longestRiver = child\n",
    "    elif tagname == \"airport\":\n",
    "        if child.find(\"elevation\") != None:\n",
    "            if airportcount == 0:\n",
    "                airportcount += 1\n",
    "                highestAirport = child\n",
    "            else:\n",
    "                if isInt_str(child.find(\"elevation\").text):\n",
    "                    elevation = int(child.find(\"elevation\").text)\n",
    "                    highestSoFar = int(highestAirport.find(\"elevation\").text)\n",
    "                    if elevation > highestSoFar:\n",
    "                        highestAirport = child"
   ]
  },
  {
   "cell_type": "code",
   "execution_count": 85,
   "metadata": {
    "collapsed": false
   },
   "outputs": [
    {
     "data": {
      "text/html": [
       "<div>\n",
       "<table border=\"1\" class=\"dataframe\">\n",
       "  <thead>\n",
       "    <tr style=\"text-align: right;\">\n",
       "      <th></th>\n",
       "      <th>Lake_area</th>\n",
       "      <th>Lake_country</th>\n",
       "      <th>Lake_name</th>\n",
       "    </tr>\n",
       "  </thead>\n",
       "  <tbody>\n",
       "    <tr>\n",
       "      <th>0</th>\n",
       "      <td>386400.0</td>\n",
       "      <td>R AZ KAZ IR TM</td>\n",
       "      <td>Caspian Sea</td>\n",
       "    </tr>\n",
       "  </tbody>\n",
       "</table>\n",
       "</div>"
      ],
      "text/plain": [
       "   Lake_area    Lake_country    Lake_name\n",
       "0   386400.0  R AZ KAZ IR TM  Caspian Sea"
      ]
     },
     "execution_count": 85,
     "metadata": {},
     "output_type": "execute_result"
    }
   ],
   "source": [
    "dictionary = {}\n",
    "dictionary['Lake_name'] = str(largestLake.find(\"name\").text)\n",
    "dictionary['Lake_country'] = str(largestLake.get(\"country\"))\n",
    "dictionary['Lake_area'] = float(largestLake.find(\"area\").text)\n",
    "largestLakeDF = pd.DataFrame(dictionary, index=[0])\n",
    "largestLakeDF"
   ]
  },
  {
   "cell_type": "code",
   "execution_count": 86,
   "metadata": {
    "collapsed": false
   },
   "outputs": [
    {
     "data": {
      "text/html": [
       "<div>\n",
       "<table border=\"1\" class=\"dataframe\">\n",
       "  <thead>\n",
       "    <tr style=\"text-align: right;\">\n",
       "      <th></th>\n",
       "      <th>River_country</th>\n",
       "      <th>River_length</th>\n",
       "      <th>River_name</th>\n",
       "    </tr>\n",
       "  </thead>\n",
       "  <tbody>\n",
       "    <tr>\n",
       "      <th>0</th>\n",
       "      <td>CO BR PE</td>\n",
       "      <td>6448.0</td>\n",
       "      <td>Amazonas</td>\n",
       "    </tr>\n",
       "  </tbody>\n",
       "</table>\n",
       "</div>"
      ],
      "text/plain": [
       "  River_country  River_length River_name\n",
       "0      CO BR PE        6448.0   Amazonas"
      ]
     },
     "execution_count": 86,
     "metadata": {},
     "output_type": "execute_result"
    }
   ],
   "source": [
    "dictionary = {}\n",
    "dictionary['River_name'] = str(longestRiver.find(\"name\").text)\n",
    "dictionary['River_country'] = str(longestRiver.get(\"country\"))\n",
    "dictionary['River_length'] = float(longestRiver.find(\"length\").text)\n",
    "longestRiverDF = pd.DataFrame(dictionary, index=[0])\n",
    "longestRiverDF"
   ]
  },
  {
   "cell_type": "code",
   "execution_count": 87,
   "metadata": {
    "collapsed": false
   },
   "outputs": [
    {
     "data": {
      "text/html": [
       "<div>\n",
       "<table border=\"1\" class=\"dataframe\">\n",
       "  <thead>\n",
       "    <tr style=\"text-align: right;\">\n",
       "      <th></th>\n",
       "      <th>Airport_country</th>\n",
       "      <th>Airport_elevation</th>\n",
       "      <th>Airport_name</th>\n",
       "    </tr>\n",
       "  </thead>\n",
       "  <tbody>\n",
       "    <tr>\n",
       "      <th>0</th>\n",
       "      <td>BOL</td>\n",
       "      <td>4063.0</td>\n",
       "      <td>El Alto Intl</td>\n",
       "    </tr>\n",
       "  </tbody>\n",
       "</table>\n",
       "</div>"
      ],
      "text/plain": [
       "  Airport_country  Airport_elevation  Airport_name\n",
       "0             BOL             4063.0  El Alto Intl"
      ]
     },
     "execution_count": 87,
     "metadata": {},
     "output_type": "execute_result"
    }
   ],
   "source": [
    "dictionary = {}\n",
    "dictionary['Airport_name'] = str(highestAirport.find(\"name\").text)\n",
    "dictionary['Airport_country'] = str(highestAirport.get(\"country\"))\n",
    "dictionary['Airport_elevation'] = float(highestAirport.find(\"elevation\").text)\n",
    "highestAirportDF = pd.DataFrame(dictionary, index=[0])\n",
    "highestAirportDF"
   ]
  },
  {
   "cell_type": "code",
   "execution_count": null,
   "metadata": {
    "collapsed": true
   },
   "outputs": [],
   "source": []
  },
  {
   "cell_type": "code",
   "execution_count": null,
   "metadata": {
    "collapsed": true
   },
   "outputs": [],
   "source": []
  },
  {
   "cell_type": "code",
   "execution_count": null,
   "metadata": {
    "collapsed": true
   },
   "outputs": [],
   "source": []
  },
  {
   "cell_type": "code",
   "execution_count": null,
   "metadata": {
    "collapsed": true
   },
   "outputs": [],
   "source": []
  },
  {
   "cell_type": "code",
   "execution_count": null,
   "metadata": {
    "collapsed": true
   },
   "outputs": [],
   "source": []
  }
 ],
 "metadata": {
  "kernelspec": {
   "display_name": "Python [Root]",
   "language": "python",
   "name": "Python [Root]"
  },
  "language_info": {
   "codemirror_mode": {
    "name": "ipython",
    "version": 3
   },
   "file_extension": ".py",
   "mimetype": "text/x-python",
   "name": "python",
   "nbconvert_exporter": "python",
   "pygments_lexer": "ipython3",
   "version": "3.5.2"
  }
 },
 "nbformat": 4,
 "nbformat_minor": 0
}
