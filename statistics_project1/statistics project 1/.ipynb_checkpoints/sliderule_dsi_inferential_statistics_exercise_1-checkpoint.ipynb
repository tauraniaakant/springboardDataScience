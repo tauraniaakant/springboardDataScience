{
 "cells": [
  {
   "cell_type": "markdown",
   "metadata": {},
   "source": [
    "## What is the true normal human body temperature? \n",
    "\n",
    "#### Background\n",
    "\n",
    "The mean normal body temperature was held to be 37$^{\\circ}$C or 98.6$^{\\circ}$F for more than 120 years since it was first conceptualized and reported by Carl Wunderlich in a famous 1868 book. In 1992, this value was revised to 36.8$^{\\circ}$C or 98.2$^{\\circ}$F. \n",
    "\n",
    "#### Exercise\n",
    "In this exercise, you will analyze a dataset of human body temperatures and employ the concepts of hypothesis testing, confidence intervals, and statistical significance.\n",
    "\n",
    "Answer the following questions **in this notebook below and submit to your Github account**. \n",
    "\n",
    "1.  Is the distribution of body temperatures normal? \n",
    "    - Remember that this is a condition for the CLT, and hence the statistical tests we are using, to apply. \n",
    "2.  Is the true population mean really 98.6 degrees F?\n",
    "    - Bring out the one sample hypothesis test! In this situation, is it approriate to apply a z-test or a t-test? How will the result be different?\n",
    "3.  At what temperature should we consider someone's temperature to be \"abnormal\"?\n",
    "    - Start by computing the margin of error and confidence interval.\n",
    "4.  Is there a significant difference between males and females in normal temperature?\n",
    "    - Set up and solve for a two sample hypothesis testing.\n",
    "\n",
    "You can include written notes in notebook cells using Markdown: \n",
    "   - In the control panel at the top, choose Cell > Cell Type > Markdown\n",
    "   - Markdown syntax: http://nestacms.com/docs/creating-content/markdown-cheat-sheet\n",
    "\n",
    "#### Resources\n",
    "\n",
    "+ Information and data sources: http://www.amstat.org/publications/jse/datasets/normtemp.txt, http://www.amstat.org/publications/jse/jse_data_archive.htm\n",
    "+ Markdown syntax: http://nestacms.com/docs/creating-content/markdown-cheat-sheet\n",
    "\n",
    "****"
   ]
  },
  {
   "cell_type": "code",
   "execution_count": 1,
   "metadata": {
    "collapsed": false
   },
   "outputs": [],
   "source": [
    "from scipy import stats\n",
    "import numpy as np\n",
    "import pandas as pd\n",
    "import datetime\n",
    "from pylab import figure, axes, pie, title, show\n",
    "\n",
    "pd.set_option('display.max_columns', 10000)"
   ]
  },
  {
   "cell_type": "code",
   "execution_count": 2,
   "metadata": {
    "collapsed": false
   },
   "outputs": [],
   "source": [
    "df = pd.read_csv('data/human_body_temperature.csv')"
   ]
  },
  {
   "cell_type": "code",
   "execution_count": 3,
   "metadata": {
    "collapsed": false
   },
   "outputs": [
    {
     "data": {
      "text/html": [
       "<div>\n",
       "<table border=\"1\" class=\"dataframe\">\n",
       "  <thead>\n",
       "    <tr style=\"text-align: right;\">\n",
       "      <th></th>\n",
       "      <th>temperature</th>\n",
       "      <th>gender</th>\n",
       "      <th>heart_rate</th>\n",
       "    </tr>\n",
       "  </thead>\n",
       "  <tbody>\n",
       "    <tr>\n",
       "      <th>0</th>\n",
       "      <td>99.3</td>\n",
       "      <td>F</td>\n",
       "      <td>68.0</td>\n",
       "    </tr>\n",
       "    <tr>\n",
       "      <th>1</th>\n",
       "      <td>98.4</td>\n",
       "      <td>F</td>\n",
       "      <td>81.0</td>\n",
       "    </tr>\n",
       "    <tr>\n",
       "      <th>2</th>\n",
       "      <td>97.8</td>\n",
       "      <td>M</td>\n",
       "      <td>73.0</td>\n",
       "    </tr>\n",
       "    <tr>\n",
       "      <th>3</th>\n",
       "      <td>99.2</td>\n",
       "      <td>F</td>\n",
       "      <td>66.0</td>\n",
       "    </tr>\n",
       "    <tr>\n",
       "      <th>4</th>\n",
       "      <td>98.0</td>\n",
       "      <td>F</td>\n",
       "      <td>73.0</td>\n",
       "    </tr>\n",
       "  </tbody>\n",
       "</table>\n",
       "</div>"
      ],
      "text/plain": [
       "   temperature gender  heart_rate\n",
       "0         99.3      F        68.0\n",
       "1         98.4      F        81.0\n",
       "2         97.8      M        73.0\n",
       "3         99.2      F        66.0\n",
       "4         98.0      F        73.0"
      ]
     },
     "execution_count": 3,
     "metadata": {},
     "output_type": "execute_result"
    }
   ],
   "source": [
    "df.head()"
   ]
  },
  {
   "cell_type": "markdown",
   "metadata": {},
   "source": [
    "# Q1) Is the distribution of body temperatures normal?\n",
    "\n",
    "## Method 1: Check the statistics of the temperature data"
   ]
  },
  {
   "cell_type": "code",
   "execution_count": 4,
   "metadata": {
    "collapsed": false
   },
   "outputs": [
    {
     "data": {
      "text/plain": [
       "{'1std': 0.6923076923076923,\n",
       " '2std': 0.9461538461538461,\n",
       " '3std': 0.9923076923076923,\n",
       " 'mean': 98.24923076923078,\n",
       " 'median': 98.3,\n",
       " 'obs': 130,\n",
       " 'stdev': 0.7331831580389454}"
      ]
     },
     "execution_count": 4,
     "metadata": {},
     "output_type": "execute_result"
    }
   ],
   "source": [
    "temperatures = df.temperature\n",
    "dist_stats = dict()\n",
    "mean = temperatures.mean()\n",
    "stdev = temperatures.std()\n",
    "obs = len(temperatures)\n",
    "dist_stats[\"mean\"] = temperatures.mean()\n",
    "dist_stats[\"median\"] = temperatures.median()\n",
    "dist_stats[\"stdev\"] = temperatures.std(ddof=1)\n",
    "dist_stats[\"obs\"] = obs\n",
    "dist_stats[\"1std\"]  = len(temperatures[(temperatures < mean+1*stdev) & (temperatures > mean-1*stdev)])/obs\n",
    "dist_stats[\"2std\"]  = len(temperatures[(temperatures < mean+2*stdev) & (temperatures > mean-2*stdev)])/obs\n",
    "dist_stats[\"3std\"]  = len(temperatures[(temperatures < mean+3*stdev) & (temperatures > mean-3*stdev)])/obs\n",
    "dist_stats"
   ]
  },
  {
   "cell_type": "markdown",
   "metadata": {},
   "source": [
    "In order to confirm with the temperature is normally distributed, we check for the characteristics of normally distibuted data:\n",
    "\n",
    "1. Is the mean equal to the median? \n",
    " * Yes, the median is 98.3 and the mean is very close at 98.249\n",
    "2. Are 69% of the observations within 1 standard deviation of the mean?\n",
    " * Yes, 69.23% of the observations are within 1 standard deviation of the mean\n",
    "3. Are 95% of the observations within 2 standard deviations of the mean?\n",
    " * Yes, 94.62% of the observations are within 2 standard deviations of the mean\n",
    "4. Are 99% of the observations within 3 standard deviations of the mean?\n",
    " * Yes, 99.23% of the observations are within 3 standard deviations of the mean\n",
    "\n",
    "Hence, by this precursory look, the data seems to be **normally distibuted**\n",
    "\n",
    "## Method 2: Use the normaltest method from scipy"
   ]
  },
  {
   "cell_type": "code",
   "execution_count": 5,
   "metadata": {
    "collapsed": false
   },
   "outputs": [
    {
     "data": {
      "text/plain": [
       "NormaltestResult(statistic=2.7038014333192031, pvalue=0.2587479863488254)"
      ]
     },
     "execution_count": 5,
     "metadata": {},
     "output_type": "execute_result"
    }
   ],
   "source": [
    "isnormal = stats.mstats.normaltest(df[\"temperature\"], axis=0)\n",
    "isnormal"
   ]
  },
  {
   "cell_type": "markdown",
   "metadata": {},
   "source": [
    "Given a null hypothesis that the temperature is normally distibuted and assuming a significance level (alpha) of 0.05,\n",
    "\n",
    "The result shows a p-value of 0.2587. Since p-value > alpha, we cannot reject the null hypothesis. Hence, there is insufficient evidence to reject the null hypothesis.\n",
    "\n",
    "Hence, we believe the data to be normally distributed "
   ]
  },
  {
   "cell_type": "markdown",
   "metadata": {},
   "source": [
    "## Q2) Is the true population mean really 98.6 degrees F?\n",
    "Bring out the one sample hypothesis test! In this situation, is it approriate to apply a z-test or a t-test? How will the result be different?"
   ]
  },
  {
   "cell_type": "markdown",
   "metadata": {},
   "source": [
    "## Answer:\n",
    "\n",
    "Null Hypothesis: True population mean = 98.6F\n",
    "\n",
    "Alternative Hypothesis: True population mean is not equal to 98.6F\n",
    "\n",
    "Significance level, alpha = 0.05\n",
    "\n",
    "Sample size, n = 130\n",
    "\n",
    "Sample mean, xbar = 98.2492F\n",
    "\n",
    "Sample standard deviation, xstd = 0.7332F\n",
    "\n",
    "Under the null hypothesis, the sample mean of the sampling distribution(sdist_mean) = the true population mean = 98.6F\n",
    "\n",
    "The standard error (s_err) = xstd/sqrt(n)"
   ]
  },
  {
   "cell_type": "code",
   "execution_count": 6,
   "metadata": {
    "collapsed": false
   },
   "outputs": [
    {
     "data": {
      "text/plain": [
       "0.06430441683789101"
      ]
     },
     "execution_count": 6,
     "metadata": {},
     "output_type": "execute_result"
    }
   ],
   "source": [
    "alpha = 0.05\n",
    "n = dist_stats[\"obs\"]\n",
    "xbar = dist_stats[\"mean\"]\n",
    "xstd = dist_stats[\"stdev\"]\n",
    "sdist_mean = 98.6\n",
    "s_err = xstd/np.sqrt(n)\n",
    "s_err"
   ]
  },
  {
   "cell_type": "markdown",
   "metadata": {},
   "source": [
    "Thus, the standard error (s_err) = 0.0643\n",
    "\n",
    "**We will use the z-statistic as the sample size is greater than 30. Even if we use the t-statistic, the result will not be significantly different**\n",
    "\n",
    "The z-statistic (z_stat) = (xbar - sdist_mean)/s_err"
   ]
  },
  {
   "cell_type": "code",
   "execution_count": 7,
   "metadata": {
    "collapsed": false
   },
   "outputs": [
    {
     "data": {
      "text/plain": [
       "-5.4548232923640789"
      ]
     },
     "execution_count": 7,
     "metadata": {},
     "output_type": "execute_result"
    }
   ],
   "source": [
    "z_stat = (xbar - sdist_mean)/s_err\n",
    "z_stat"
   ]
  },
  {
   "cell_type": "markdown",
   "metadata": {},
   "source": [
    "Looking at the z-table, we find that a z-statistic of -5.45 gives a p-value of almost 0, which is less than alpha.\n",
    "Hence, we reject the null hypothesis. \n",
    "\n",
    "**Hence, the true mean body temperature of the population is not 98.6F**\n",
    "\n",
    "## Q3) At what temperature should we consider someone's temperature to be \"abnormal\"?\n",
    "\n",
    "Start by computing the margin of error and confidence interval.\n",
    "\n",
    "## Answer:\n",
    "\n",
    "Confidence interval computation:\n",
    "\n",
    "For a confidence level of 95%, the z-statistic (z_stat) is 1.96\n",
    "\n",
    "Sample mean (xbar) is 98.2492F\n",
    "\n",
    "Sample standard deviation (xstd) is 0.7332\n",
    "\n",
    "Sample size (n) is 130\n",
    "\n",
    "The confidence interval (CI) is computed as follows:\n",
    "\n",
    "xbar +- z_stat * xstd / sqrt(n)"
   ]
  },
  {
   "cell_type": "code",
   "execution_count": 8,
   "metadata": {
    "collapsed": false
   },
   "outputs": [
    {
     "data": {
      "text/plain": [
       "[98.123194112228518, 98.375267426233037]"
      ]
     },
     "execution_count": 8,
     "metadata": {},
     "output_type": "execute_result"
    }
   ],
   "source": [
    "z_stat = 1.96\n",
    "confidence_interval = [(xbar-(z_stat*xstd/np.sqrt(n))),(xbar+(z_stat*xstd/np.sqrt(n)))]\n",
    "confidence_interval"
   ]
  },
  {
   "cell_type": "markdown",
   "metadata": {},
   "source": [
    "**Thus, the 95% confidence interval is 98.123F to 98.375F. If a person's body temperature is outside this range, their temperature can be considered as abnormal**\n",
    "\n",
    "## Q4) Is there a significant difference between males and females in normal temperature?\n",
    "Set up and solve for a two sample hypothesis testing.\n",
    "\n",
    "## Answer:"
   ]
  },
  {
   "cell_type": "code",
   "execution_count": 9,
   "metadata": {
    "collapsed": false
   },
   "outputs": [
    {
     "data": {
      "text/plain": [
       "{'female mean': 98.39384615384613,\n",
       " 'female size': 65,\n",
       " 'female std dev': 0.7434877527313665,\n",
       " 'male mean': 98.1046153846154,\n",
       " 'male size': 65,\n",
       " 'male std dev': 0.6987557623265908,\n",
       " 'male-female mean difference': -0.289230769230727}"
      ]
     },
     "execution_count": 9,
     "metadata": {},
     "output_type": "execute_result"
    }
   ],
   "source": [
    "male_temp = df.temperature[df.gender=='M']\n",
    "female_temp = df.temperature[df.gender=='F']\n",
    "\n",
    "two_sample_stats = dict()\n",
    "two_sample_stats[\"male mean\"] = male_temp.mean()\n",
    "two_sample_stats[\"female mean\"] = female_temp.mean()\n",
    "two_sample_stats[\"male std dev\"] = male_temp.std(ddof=1)\n",
    "two_sample_stats[\"female std dev\"] = female_temp.std(ddof=1)\n",
    "two_sample_stats[\"male size\"] = len(male_temp)\n",
    "two_sample_stats[\"female size\"] = len(female_temp)\n",
    "two_sample_stats[\"male-female mean difference\"] = two_sample_stats[\"male mean\"] - two_sample_stats[\"female mean\"]\n",
    "two_sample_stats"
   ]
  },
  {
   "cell_type": "markdown",
   "metadata": {},
   "source": [
    "Null Hypothesis: Difference in body temperatures means of men and women = 0F\n",
    "\n",
    "Alternative Hypothesis: Difference in body temperatures means of men and women is not 0F\n",
    "\n",
    "Significance level, alpha = 0.05\n",
    "\n",
    "Sample size, n = 65\n",
    "\n",
    "Sample mean, xbar = -0.2892F\n",
    "\n",
    "Sample standard deviation calculation:"
   ]
  },
  {
   "cell_type": "code",
   "execution_count": 10,
   "metadata": {
    "collapsed": false
   },
   "outputs": [
    {
     "data": {
      "text/plain": [
       "1.0203105673500361"
      ]
     },
     "execution_count": 10,
     "metadata": {},
     "output_type": "execute_result"
    }
   ],
   "source": [
    "alpha = 0.05\n",
    "n = 65\n",
    "xbar = two_sample_stats[\"male-female mean difference\"]\n",
    "var_male = two_sample_stats[\"male std dev\"]**2\n",
    "var_female = two_sample_stats[\"female std dev\"]**2\n",
    "var_sample = var_male + var_female\n",
    "xstd = np.sqrt(var_sample)\n",
    "xstd"
   ]
  },
  {
   "cell_type": "markdown",
   "metadata": {},
   "source": [
    "Thus, the sample standard deviation (xstd) = 1.0203\n",
    "\n",
    "Under the null hypothesis, the sample mean of the sampling distribution(sdist_mean) = 0F\n",
    "\n",
    "The standard error (s_err) = xstd/sqrt(n)"
   ]
  },
  {
   "cell_type": "code",
   "execution_count": 11,
   "metadata": {
    "collapsed": false
   },
   "outputs": [
    {
     "data": {
      "text/plain": [
       "0.12655395041982645"
      ]
     },
     "execution_count": 11,
     "metadata": {},
     "output_type": "execute_result"
    }
   ],
   "source": [
    "sdist_mean = 0\n",
    "s_err = xstd/np.sqrt(n)\n",
    "s_err"
   ]
  },
  {
   "cell_type": "markdown",
   "metadata": {},
   "source": [
    "Thus, the standard error (s_err) is 0.1266\n",
    "\n",
    "We use the z-statistic as we do not know the standard deviation of the population.\n",
    "\n",
    "The z-statistic (z_stat) is: xbar - sdist_mean / s_err"
   ]
  },
  {
   "cell_type": "code",
   "execution_count": 12,
   "metadata": {
    "collapsed": false
   },
   "outputs": [
    {
     "data": {
      "text/plain": [
       "-2.2854345381652736"
      ]
     },
     "execution_count": 12,
     "metadata": {},
     "output_type": "execute_result"
    }
   ],
   "source": [
    "z_stat = (xbar - sdist_mean)/s_err\n",
    "z_stat"
   ]
  },
  {
   "cell_type": "markdown",
   "metadata": {},
   "source": [
    "The z-statistic is -2.2854. \n",
    "\n",
    "Looking at the z-table, we find the z-statistic cutoff is at +1.96 and -1.96.\n",
    "\n",
    "**Since our computed z-statistic is less than -1.96, it means we reject the null hypothesis. Thus, there is a statistically difference between the body temperatures of men and women.**"
   ]
  }
 ],
 "metadata": {
  "anaconda-cloud": {},
  "kernelspec": {
   "display_name": "Python [Root]",
   "language": "python",
   "name": "Python [Root]"
  },
  "language_info": {
   "codemirror_mode": {
    "name": "ipython",
    "version": 3
   },
   "file_extension": ".py",
   "mimetype": "text/x-python",
   "name": "python",
   "nbconvert_exporter": "python",
   "pygments_lexer": "ipython3",
   "version": "3.5.2"
  }
 },
 "nbformat": 4,
 "nbformat_minor": 0
}
