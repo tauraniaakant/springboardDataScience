{
 "cells": [
  {
   "cell_type": "code",
   "execution_count": 1,
   "metadata": {
    "collapsed": false
   },
   "outputs": [
    {
     "data": {
      "text/html": [
       "<style>body {\n",
       "    margin: 0;\n",
       "    font-family: Helvetica;\n",
       "}\n",
       "table.dataframe {\n",
       "    border-collapse: collapse;\n",
       "    border: none;\n",
       "}\n",
       "table.dataframe tr {\n",
       "    border: none;\n",
       "}\n",
       "table.dataframe td, table.dataframe th {\n",
       "    margin: 0;\n",
       "    border: 1px solid white;\n",
       "    padding-left: 0.25em;\n",
       "    padding-right: 0.25em;\n",
       "}\n",
       "table.dataframe th:not(:empty) {\n",
       "    background-color: #fec;\n",
       "    text-align: left;\n",
       "    font-weight: normal;\n",
       "}\n",
       "table.dataframe tr:nth-child(2) th:empty {\n",
       "    border-left: none;\n",
       "    border-right: 1px dashed #888;\n",
       "}\n",
       "table.dataframe td {\n",
       "    border: 2px solid #ccf;\n",
       "    background-color: #f4f4ff;\n",
       "}\n",
       "h3 {\n",
       "    color: white;\n",
       "    background-color: black;\n",
       "    padding: 0.5em;\n",
       "}\n",
       "</style>"
      ],
      "text/plain": [
       "<IPython.core.display.HTML object>"
      ]
     },
     "execution_count": 1,
     "metadata": {},
     "output_type": "execute_result"
    }
   ],
   "source": [
    "import json\n",
    "import tweepy\n",
    "import time\n",
    "import threading\n",
    "import datetime as dt\n",
    "from datetime import datetime\n",
    "import numpy as np\n",
    "import pandas as pd\n",
    "\n",
    "from IPython.core.display import HTML\n",
    "directory = '/home/aakant/Development/WorkingDirectories/JupyterNotebook/'\n",
    "css = open(directory + 'style-table.css').read() + open(directory + 'style-notebook.css').read()\n",
    "HTML('<style>{}</style>'.format(css))"
   ]
  },
  {
   "cell_type": "code",
   "execution_count": 2,
   "metadata": {
    "collapsed": false
   },
   "outputs": [],
   "source": [
    "from tweepy import OAuthHandler\n",
    " \n",
    "consumer_key = 'smF3mKQ8aKwySgHC7qUvMtGBi'\n",
    "consumer_secret = '1fk60NTx8cWuV8QMDs1LdW3YkJjUUjxu2cLeGhDHAsl68raLD2'\n",
    "access_token = '71018872-Ad3En3sV6NI3XLKdeRG3NmJpqefJN8Apt1KTJGI8Q'\n",
    "access_secret = '5wO0XztpbiX49ozt0MXdW1B8TYvdG1kPgy8jZSO7SvuxY'\n",
    " \n",
    "auth = OAuthHandler(consumer_key, consumer_secret)\n",
    "auth.set_access_token(access_token, access_secret)\n",
    "\n",
    "api = tweepy.API(auth)"
   ]
  },
  {
   "cell_type": "code",
   "execution_count": 3,
   "metadata": {
    "collapsed": false,
    "scrolled": true
   },
   "outputs": [
    {
     "data": {
      "text/html": [
       "<div>\n",
       "<table border=\"1\" class=\"dataframe\">\n",
       "  <thead>\n",
       "    <tr style=\"text-align: right;\">\n",
       "      <th></th>\n",
       "      <th>Twitter Source Name</th>\n",
       "      <th>TwitterID</th>\n",
       "    </tr>\n",
       "  </thead>\n",
       "  <tbody>\n",
       "    <tr>\n",
       "      <th>0</th>\n",
       "      <td>The Independent</td>\n",
       "      <td>Independent</td>\n",
       "    </tr>\n",
       "    <tr>\n",
       "      <th>1</th>\n",
       "      <td>The Economist</td>\n",
       "      <td>TheEconomist</td>\n",
       "    </tr>\n",
       "    <tr>\n",
       "      <th>2</th>\n",
       "      <td>Reuters</td>\n",
       "      <td>Reuters</td>\n",
       "    </tr>\n",
       "    <tr>\n",
       "      <th>3</th>\n",
       "      <td>Forbes</td>\n",
       "      <td>Forbes</td>\n",
       "    </tr>\n",
       "    <tr>\n",
       "      <th>4</th>\n",
       "      <td>Financial Times</td>\n",
       "      <td>FT</td>\n",
       "    </tr>\n",
       "    <tr>\n",
       "      <th>5</th>\n",
       "      <td>Bloomberg News</td>\n",
       "      <td>business</td>\n",
       "    </tr>\n",
       "    <tr>\n",
       "      <th>6</th>\n",
       "      <td>The Wall Street Journal</td>\n",
       "      <td>WSJ</td>\n",
       "    </tr>\n",
       "    <tr>\n",
       "      <th>7</th>\n",
       "      <td>The Real News</td>\n",
       "      <td>TheRealNews</td>\n",
       "    </tr>\n",
       "    <tr>\n",
       "      <th>8</th>\n",
       "      <td>The Independent Media Center</td>\n",
       "      <td>indymedia</td>\n",
       "    </tr>\n",
       "    <tr>\n",
       "      <th>9</th>\n",
       "      <td>AlterNet</td>\n",
       "      <td>AlterNet</td>\n",
       "    </tr>\n",
       "    <tr>\n",
       "      <th>10</th>\n",
       "      <td>BBC</td>\n",
       "      <td>BBC</td>\n",
       "    </tr>\n",
       "    <tr>\n",
       "      <th>11</th>\n",
       "      <td>NPR</td>\n",
       "      <td>NPR</td>\n",
       "    </tr>\n",
       "    <tr>\n",
       "      <th>12</th>\n",
       "      <td>PBS</td>\n",
       "      <td>PBS</td>\n",
       "    </tr>\n",
       "    <tr>\n",
       "      <th>13</th>\n",
       "      <td>ABC News</td>\n",
       "      <td>ABC</td>\n",
       "    </tr>\n",
       "    <tr>\n",
       "      <th>14</th>\n",
       "      <td>CBS News</td>\n",
       "      <td>CBSNews</td>\n",
       "    </tr>\n",
       "    <tr>\n",
       "      <th>15</th>\n",
       "      <td>NBC News</td>\n",
       "      <td>NBCNews</td>\n",
       "    </tr>\n",
       "    <tr>\n",
       "      <th>16</th>\n",
       "      <td>CNN</td>\n",
       "      <td>CNN</td>\n",
       "    </tr>\n",
       "    <tr>\n",
       "      <th>17</th>\n",
       "      <td>USA Today</td>\n",
       "      <td>USATODAY</td>\n",
       "    </tr>\n",
       "    <tr>\n",
       "      <th>18</th>\n",
       "      <td>Google News</td>\n",
       "      <td>googlenews</td>\n",
       "    </tr>\n",
       "  </tbody>\n",
       "</table>\n",
       "</div>"
      ],
      "text/plain": [
       "             Twitter Source Name     TwitterID\n",
       "0                The Independent   Independent\n",
       "1                  The Economist  TheEconomist\n",
       "2                        Reuters       Reuters\n",
       "3                         Forbes        Forbes\n",
       "4                Financial Times            FT\n",
       "5                 Bloomberg News      business\n",
       "6        The Wall Street Journal           WSJ\n",
       "7                  The Real News   TheRealNews\n",
       "8   The Independent Media Center     indymedia\n",
       "9                       AlterNet      AlterNet\n",
       "10                           BBC           BBC\n",
       "11                           NPR           NPR\n",
       "12                           PBS           PBS\n",
       "13                      ABC News           ABC\n",
       "14                      CBS News       CBSNews\n",
       "15                      NBC News       NBCNews\n",
       "16                           CNN           CNN\n",
       "17                     USA Today      USATODAY\n",
       "18                   Google News    googlenews"
      ]
     },
     "execution_count": 3,
     "metadata": {},
     "output_type": "execute_result"
    }
   ],
   "source": [
    "twitterSourcesURL=\"/home/aakant/Development/WorkingDirectories/JupyterNotebook/Capstone/twitter-sources.csv\"\n",
    "twitterSources = pd.read_csv(twitterSourcesURL, header=0)\n",
    "twitterSources['TwitterID'] = twitterSources['TwitterID'].str.replace('@', '')\n",
    "twitterSources"
   ]
  },
  {
   "cell_type": "code",
   "execution_count": 4,
   "metadata": {
    "collapsed": false
   },
   "outputs": [],
   "source": [
    "def show_rate_limit_status():\n",
    "    rate_limit_status = api.rate_limit_status()\n",
    "    rate_limit_df = pd.DataFrame(rate_limit_status['resources'])\n",
    "    rate_limit_df = rate_limit_df.stack()\n",
    "    rate_limit_df = rate_limit_df.reset_index()\n",
    "    rate_limit_df = rate_limit_df.drop('level_1',1)\n",
    "    rate_limit_df['remaining'] = rate_limit_df[0].map(lambda x: x['remaining'])\n",
    "    rate_limit_df['reset'] = rate_limit_df[0].map(lambda x: x['reset'])\n",
    "    rate_limit_df['limit'] = rate_limit_df[0].map(lambda x: x['limit'])\n",
    "    rate_limit_df = rate_limit_df.drop(0,1)\n",
    "    rate_limit_df['reset'] = list(map(dt.datetime.fromtimestamp, rate_limit_df['reset']))\n",
    "    return rate_limit_df[rate_limit_df['remaining'] < rate_limit_df['limit']]"
   ]
  },
  {
   "cell_type": "code",
   "execution_count": 5,
   "metadata": {
    "collapsed": false
   },
   "outputs": [],
   "source": [
    "def limit_handled(cursor, usernumber):\n",
    "    flag=True\n",
    "    count = 1\n",
    "    while flag:\n",
    "        try:\n",
    "            yield cursor.next()\n",
    "        except (tweepy.TweepError, tweepy.RateLimitError):\n",
    "            print(\"Rate Limit Hit, sleeping for 15 minutes. User Number: \"+str(usernumber))\n",
    "            time.sleep(15 * 60)\n",
    "            \n",
    "def get_tweets(userList=twitterSources['TwitterID'], theCount=10, startDate=None, endDate=None, numPages=None):\n",
    "    usernumber = 0\n",
    "    array = []\n",
    "    for sourceName in userList:\n",
    "        usernumber += 1\n",
    "        if numPages:\n",
    "            for theTweets in limit_handled(tweepy.Cursor(api.user_timeline, screen_name=sourceName).pages(numPages), usernumber):\n",
    "                for tweet in theTweets:\n",
    "                    parsed_json = json.dumps(tweet._json)\n",
    "                    array.append(parsed_json)\n",
    "        else:\n",
    "            for theTweets in limit_handled(tweepy.Cursor(api.user_timeline, screen_name=sourceName).pages(), usernumber):\n",
    "                for tweet in theTweets:\n",
    "                    parsed_json = json.dumps(tweet._json)\n",
    "                    array.append(parsed_json)\n",
    "        \n",
    "    return array"
   ]
  },
  {
   "cell_type": "code",
   "execution_count": 6,
   "metadata": {
    "collapsed": false,
    "scrolled": true
   },
   "outputs": [],
   "source": [
    "def arrayToDF(arrayElement):  \n",
    "    tempDF = pd.read_json(arrayElement)\n",
    "    tempDF = tempDF.loc['name']\n",
    "    return tempDF"
   ]
  },
  {
   "cell_type": "code",
   "execution_count": 7,
   "metadata": {
    "collapsed": true
   },
   "outputs": [],
   "source": [
    "pd.set_option('display.max_rows', 10000)\n",
    "pd.set_option('display.max_columns', 10000)"
   ]
  },
  {
   "cell_type": "code",
   "execution_count": 12,
   "metadata": {
    "collapsed": false
   },
   "outputs": [
    {
     "data": {
      "text/html": [
       "<div>\n",
       "<table border=\"1\" class=\"dataframe\">\n",
       "  <thead>\n",
       "    <tr style=\"text-align: right;\">\n",
       "      <th></th>\n",
       "      <th>level_0</th>\n",
       "      <th>remaining</th>\n",
       "      <th>reset</th>\n",
       "      <th>limit</th>\n",
       "    </tr>\n",
       "  </thead>\n",
       "  <tbody>\n",
       "    <tr>\n",
       "      <th>4</th>\n",
       "      <td>/application/rate_limit_status</td>\n",
       "      <td>178</td>\n",
       "      <td>2016-08-13 00:54:46</td>\n",
       "      <td>180</td>\n",
       "    </tr>\n",
       "  </tbody>\n",
       "</table>\n",
       "</div>"
      ],
      "text/plain": [
       "                          level_0  remaining               reset  limit\n",
       "4  /application/rate_limit_status        178 2016-08-13 00:54:46    180"
      ]
     },
     "execution_count": 12,
     "metadata": {},
     "output_type": "execute_result"
    }
   ],
   "source": [
    "show_rate_limit_status()"
   ]
  },
  {
   "cell_type": "code",
   "execution_count": 9,
   "metadata": {
    "collapsed": false
   },
   "outputs": [],
   "source": [
    "class myThread (threading.Thread):\n",
    "    def __init__(self, threadID, name):\n",
    "        threading.Thread.__init__(self)\n",
    "        self.threadID = threadID\n",
    "        self.name = name\n",
    "    def run(self):\n",
    "        print (\"Starting \" + self.name)\n",
    "        theTweets = get_tweets()\n",
    "        bigTweetDF = pd.DataFrame.from_records(map(arrayToDF, theTweets))\n",
    "        bigTweetDF.to_json(directory+'AllTweets13August.json')\n",
    "        print (\"Exiting \" + self.name)"
   ]
  },
  {
   "cell_type": "code",
   "execution_count": 10,
   "metadata": {
    "collapsed": false,
    "scrolled": true
   },
   "outputs": [
    {
     "name": "stdout",
     "output_type": "stream",
     "text": [
      "Starting TwitterFeedRetrieval\n",
      "Rate Limit Hit, sleeping for 15 minutes. User Number: 1\n",
      "Rate Limit Hit, sleeping for 15 minutes. User Number: 2\n",
      "Rate Limit Hit, sleeping for 15 minutes. User Number: 3\n",
      "Rate Limit Hit, sleeping for 15 minutes. User Number: 3\n",
      "Rate Limit Hit, sleeping for 15 minutes. User Number: 4\n",
      "Rate Limit Hit, sleeping for 15 minutes. User Number: 5\n",
      "Rate Limit Hit, sleeping for 15 minutes. User Number: 5\n",
      "Rate Limit Hit, sleeping for 15 minutes. User Number: 6\n",
      "Rate Limit Hit, sleeping for 15 minutes. User Number: 6\n",
      "Rate Limit Hit, sleeping for 15 minutes. User Number: 7\n",
      "Rate Limit Hit, sleeping for 15 minutes. User Number: 8\n",
      "Rate Limit Hit, sleeping for 15 minutes. User Number: 8\n",
      "Rate Limit Hit, sleeping for 15 minutes. User Number: 9\n",
      "Rate Limit Hit, sleeping for 15 minutes. User Number: 9\n",
      "Rate Limit Hit, sleeping for 15 minutes. User Number: 10\n",
      "Rate Limit Hit, sleeping for 15 minutes. User Number: 12\n",
      "Rate Limit Hit, sleeping for 15 minutes. User Number: 13\n",
      "Rate Limit Hit, sleeping for 15 minutes. User Number: 13\n",
      "Rate Limit Hit, sleeping for 15 minutes. User Number: 14\n",
      "Rate Limit Hit, sleeping for 15 minutes. User Number: 14\n",
      "Rate Limit Hit, sleeping for 15 minutes. User Number: 15\n",
      "Rate Limit Hit, sleeping for 15 minutes. User Number: 16\n",
      "Rate Limit Hit, sleeping for 15 minutes. User Number: 17\n",
      "Rate Limit Hit, sleeping for 15 minutes. User Number: 18\n",
      "Rate Limit Hit, sleeping for 15 minutes. User Number: 19\n",
      "Rate Limit Hit, sleeping for 15 minutes. User Number: 19\n"
     ]
    }
   ],
   "source": [
    "thread1 = myThread(1,\"TwitterFeedRetrieval\")\n",
    "thread1.start()"
   ]
  },
  {
   "cell_type": "code",
   "execution_count": null,
   "metadata": {
    "collapsed": true
   },
   "outputs": [],
   "source": []
  },
  {
   "cell_type": "code",
   "execution_count": null,
   "metadata": {
    "collapsed": true
   },
   "outputs": [],
   "source": []
  },
  {
   "cell_type": "code",
   "execution_count": null,
   "metadata": {
    "collapsed": true
   },
   "outputs": [],
   "source": []
  },
  {
   "cell_type": "code",
   "execution_count": null,
   "metadata": {
    "collapsed": true
   },
   "outputs": [],
   "source": []
  },
  {
   "cell_type": "code",
   "execution_count": null,
   "metadata": {
    "collapsed": true
   },
   "outputs": [],
   "source": []
  },
  {
   "cell_type": "code",
   "execution_count": null,
   "metadata": {
    "collapsed": true
   },
   "outputs": [],
   "source": []
  }
 ],
 "metadata": {
  "anaconda-cloud": {},
  "kernelspec": {
   "display_name": "Python [Root]",
   "language": "python",
   "name": "Python [Root]"
  },
  "language_info": {
   "codemirror_mode": {
    "name": "ipython",
    "version": 3
   },
   "file_extension": ".py",
   "mimetype": "text/x-python",
   "name": "python",
   "nbconvert_exporter": "python",
   "pygments_lexer": "ipython3",
   "version": "3.5.2"
  }
 },
 "nbformat": 4,
 "nbformat_minor": 0
}
